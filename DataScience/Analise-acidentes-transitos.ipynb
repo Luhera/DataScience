{
  "cells": [
    {
      "cell_type": "markdown",
      "metadata": {
        "id": "vRnbcUb1EQwv"
      },
      "source": [
        "![image.png](data:image/png;base64,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)\n",
        "\n",
        "**Neste trabalho iremos explorar o dataset do governo de Minas Gerais do ano de 2021 com acidentes de trânsito com vítimas ocorridos em Belo Horizonte**"
      ]
    },
    {
      "cell_type": "markdown",
      "metadata": {
        "id": "4TJTStzoFX8p"
      },
      "source": [
        "# Descrição dos passos seguidos nesta a tividade"
      ]
    },
    {
      "cell_type": "code",
      "execution_count": null,
      "metadata": {
        "id": "Ki8R1zmwBpue"
      },
      "outputs": [],
      "source": [
        "# Passo 1: Instalar bibliotecas\n",
        "# passo 2: Importar base de dados\n",
        "# Passo 3: Leitura e vizualização da base de dados\n",
        "# Passo 4: Corrigir erros da base de dados\n",
        "# Passo 5: Análise dos dados\n",
        "# Passo 6: Graficos Informativos\n"
      ]
    },
    {
      "cell_type": "markdown",
      "metadata": {
        "id": "zXGlImULF6ez"
      },
      "source": [
        "# Passo 1: Instalar bibliotecas"
      ]
    },
    {
      "cell_type": "code",
      "execution_count": null,
      "metadata": {
        "colab": {
          "base_uri": "https://localhost:8080/"
        },
        "id": "WSAM7JLkF_yE",
        "outputId": "6f3aed01-acf0-492e-fd3c-d1a763931f2c"
      },
      "outputs": [],
      "source": [
        "!pip install pandas numpy openpyxl nbformat ipykernel plotly seaborn"
      ]
    },
    {
      "cell_type": "markdown",
      "metadata": {
        "id": "-WWkU-n2GgMQ"
      },
      "source": [
        "# Passo 2: Importar Bibliotecas"
      ]
    },
    {
      "cell_type": "code",
      "execution_count": null,
      "metadata": {
        "id": "jGAnXLIAGmsa"
      },
      "outputs": [],
      "source": [
        "import pandas as pd\n",
        "import matplotlib.pyplot as plt"
      ]
    },
    {
      "cell_type": "markdown",
      "metadata": {
        "id": "D2PDfbscMzhZ"
      },
      "source": [
        "# Dicionario de Dados"
      ]
    },
    {
      "cell_type": "code",
      "execution_count": null,
      "metadata": {
        "colab": {
          "base_uri": "https://localhost:8080/",
          "height": 573
        },
        "id": "6sk53SvRNCp_",
        "outputId": "56312a0b-250f-456b-db76-ce2441ab7eeb"
      },
      "outputs": [],
      "source": [
        "dataset = pd.read_csv(\"acidente-transito.csv\", sep=';', encoding='latin-1')\n",
        "\n",
        "display(dataset)"
      ]
    },
    {
      "cell_type": "markdown",
      "metadata": {
        "id": "3sfPAQKlG4u-"
      },
      "source": [
        "#Passo 3: Leitura e vizualização da base de dados"
      ]
    },
    {
      "cell_type": "code",
      "execution_count": null,
      "metadata": {
        "colab": {
          "base_uri": "https://localhost:8080/",
          "height": 791
        },
        "id": "Uafti2obHCbu",
        "outputId": "558ccf59-2a66-4175-b058-7de99e1f746e"
      },
      "outputs": [],
      "source": [
        "tabela = pd.read_csv(\"acidente-transito.csv\", sep=';', encoding='latin-1')\n",
        "\n",
        "\n",
        "display(tabela)"
      ]
    },
    {
      "cell_type": "markdown",
      "metadata": {
        "id": "PSqLm3MoIakL"
      },
      "source": [
        "# Passo 4: Corrigir erros da base de dados\n",
        "\n",
        "> Corrigindo valores vazios\n",
        "\n",
        "> Excluindo linhas vazias\n",
        "\n",
        "> Excluindo colunas desnecessarias"
      ]
    },
    {
      "cell_type": "code",
      "execution_count": null,
      "metadata": {
        "colab": {
          "base_uri": "https://localhost:8080/",
          "height": 642
        },
        "id": "hWf7tlKmIbZB",
        "outputId": "085b4222-46cd-4e48-db86-50d89a664f0b"
      },
      "outputs": [],
      "source": [
        "# Visualizar informações antes das operações\n",
        "display(tabela.info())\n",
        "\n",
        "#Remover espaços em branco dos nomes das colunas\n",
        "tabela.columns = tabela.columns.str.strip()\n",
        "\n",
        "# Remover linhas com valores ausentes e colunas específicas\n",
        "tabela = tabela.dropna()\n",
        "tabela = tabela.drop(columns=[\"Nº_boletim\", \"seq_veic\"])\n",
        "\n",
        "# Visualizar informações após as operações\n",
        "display(tabela.info())"
      ]
    },
    {
      "cell_type": "markdown",
      "metadata": {
        "id": "08IMZa-QJQkA"
      },
      "source": [
        "# Passo 5: Análise dos dados\n",
        "\n",
        "```\n",
        " Neste passo analizamos os dados frente a perguntas norteadoras, a quais foram elas:\n",
        "\n",
        " ```\n",
        "\n",
        " > Que tipo de socorro teve sua maior incidencia no ano de 2021?\n",
        "\n",
        " > Qual foi a espécie de veículo com maior número de acidentes neste ano?\n",
        "\n",
        " > Qual a situação do veiculo mais comum no ano analisado?\n",
        "\n",
        " > Qual foi o horário que teve o maior número de acidentes?\n"
      ]
    },
    {
      "cell_type": "code",
      "execution_count": null,
      "metadata": {
        "colab": {
          "base_uri": "https://localhost:8080/"
        },
        "id": "iY7r5G8nKXsk",
        "outputId": "9aac8a60-0985-4071-a99b-1c4505da13d5"
      },
      "outputs": [],
      "source": [
        "tipo_socorro_mais_comum = tabela['desc_tipo_socorro'].mode().values[0]\n",
        "print(\"\\nTipo de socorro mais comum:\", tipo_socorro_mais_comum)\n",
        "\n",
        "veiculo_mais_comum = tabela['descricao_especie'].mode().values[0]\n",
        "print(\"\\nVeículo que mais ocorreu acidente:\", veiculo_mais_comum)\n",
        "\n",
        "situacao_veiculo_mais_comum = tabela['desc_situacao'].mode().values[0]\n",
        "print(\"\\nSituação em que o veículo estava:\", situacao_veiculo_mais_comum)\n",
        "\n",
        "horario_mais_ocorrido = tabela['data_hora_boletim'].str.split().str[1].str.split(':').str[0].astype(int).mode().values[0]\n",
        "print(\"\\nHorário que mais ocorreu acidente:\", horario_mais_ocorrido, \"horas\")"
      ]
    },
    {
      "cell_type": "markdown",
      "metadata": {
        "id": "I_FO45P_MN6I"
      },
      "source": [
        "# Passo 6: Graficos Informativos\n",
        "\n",
        "## Nesta sessão iremos construir graficos informativos para uma melhor elucidação das perguntas norteadoras."
      ]
    },
    {
      "cell_type": "code",
      "execution_count": null,
      "metadata": {
        "colab": {
          "base_uri": "https://localhost:8080/",
          "height": 849
        },
        "id": "-lmZjkwjMPnm",
        "outputId": "dd03b373-1e08-44d3-dc91-2f545bf57f6f"
      },
      "outputs": [],
      "source": [
        "# Dados para o gráfico\n",
        "tipos_socorro = tabela['desc_tipo_socorro'].value_counts()\n",
        "veiculos = tabela['descricao_categoria'].value_counts()\n",
        "situacoes_veiculo = tabela['desc_situacao'].value_counts()\n",
        "\n",
        "# Plotar gráficos de barras\n",
        "fig, axs = plt.subplots(2, 2, figsize=(15, 10))\n",
        "\n",
        "axs[0, 0].bar(tipos_socorro.index, tipos_socorro.values, color='skyblue')\n",
        "axs[0, 0].set_title('Tipos de Socorro')\n",
        "axs[0, 0].set_ylabel('Quantidade')\n",
        "axs[0, 0].tick_params(axis='x', rotation=45)  # Rotaciona os rótulos do eixo x\n",
        "\n",
        "axs[0, 1].bar(veiculos.index, veiculos.values, color='salmon')\n",
        "axs[0, 1].set_title('Veículos Envolvidos')\n",
        "axs[0, 1].set_ylabel('Quantidade')\n",
        "axs[0, 1].tick_params(axis='x', rotation=45)  # Rotaciona os rótulos do eixo x\n",
        "\n",
        "axs[1, 0].bar(situacoes_veiculo.index, situacoes_veiculo.values, color='lightgreen')\n",
        "axs[1, 0].set_title('Situação dos Veículos')\n",
        "axs[1, 0].set_ylabel('Quantidade')\n",
        "axs[1, 0].tick_params(axis='x', rotation=45)  # Rotaciona os rótulos do eixo x\n",
        "\n",
        "# Remover o último subplot\n",
        "fig.delaxes(axs[1,1])\n",
        "\n",
        "plt.tight_layout()\n",
        "plt.show()"
      ]
    },
    {
      "cell_type": "code",
      "execution_count": null,
      "metadata": {
        "colab": {
          "base_uri": "https://localhost:8080/",
          "height": 829
        },
        "id": "auX_AZX_OF2b",
        "outputId": "a06212bf-f48e-4a21-fa5f-ca0edc0af661"
      },
      "outputs": [],
      "source": [
        "especie_count = tabela['descricao_especie'].value_counts()\n",
        "\n",
        "especie_perc = 100. * especie_count / especie_count.sum()\n",
        "\n",
        "especie_filtrado = especie_perc[especie_perc >=1.7  ]\n",
        "\n",
        "# Gerar o gráfico de pizza\n",
        "fig, ax = plt.subplots(figsize=(10, 10))\n",
        "wedges, texts, autotexts = ax.pie(especie_filtrado, autopct='%1.1f%%', startangle=140)\n",
        "\n",
        "ax.legend(wedges, especie_filtrado.index,\n",
        "          title=\"descricao_especie\",\n",
        "          loc=\"center left\",\n",
        "          bbox_to_anchor=(1, 0, 0.5, 1))\n",
        "\n",
        "plt.setp(texts, rotation_mode=\"anchor\", ha=\"right\")\n",
        "\n",
        "plt.title('Distribuição de descricao_especie (acima de 1.7%)')\n",
        "plt.show()\n"
      ]
    },
    {
      "cell_type": "markdown",
      "metadata": {
        "id": "cmOxS4Y_M3ND"
      },
      "source": [
        "# Discussão:\n",
        "\n",
        "## Com a analise dos dados supracitados, podemos observar que meios de locomoção da especie Automovel, tem a maior parcela no numero de acidentes com vitimas no ano de 2021, onde em sua maioria os acidentes ocorreram com automiveis particulares e que estavam em movimento.Seguido por motocicletas onde se somados (automoveis e motocicletas) detem mais de 80% do numero de acidentes com vitima ocorridos no ano de 2021 na cidade de Belo horizonte."
      ]
    }
  ],
  "metadata": {
    "colab": {
      "provenance": []
    },
    "kernelspec": {
      "display_name": "Python 3",
      "name": "python3"
    },
    "language_info": {
      "codemirror_mode": {
        "name": "ipython",
        "version": 3
      },
      "file_extension": ".py",
      "mimetype": "text/x-python",
      "name": "python",
      "nbconvert_exporter": "python",
      "pygments_lexer": "ipython3",
      "version": "3.11.4"
    }
  },
  "nbformat": 4,
  "nbformat_minor": 0
}
