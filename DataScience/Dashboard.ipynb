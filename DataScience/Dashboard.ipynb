{
 "cells": [
  {
   "cell_type": "code",
   "execution_count": null,
   "metadata": {},
   "outputs": [],
   "source": [
    "!pip install pandas \n",
    "!pip install dash-bootstrap-components\n",
    "!pip install dash\n"
   ]
  },
  {
   "cell_type": "markdown",
   "metadata": {},
   "source": [
    "Importação de Bibliotecas e Definição de Funções:"
   ]
  },
  {
   "cell_type": "markdown",
   "metadata": {},
   "source": [
    "Carregamento e Pré-processamento dos Dados:"
   ]
  },
  {
   "cell_type": "markdown",
   "metadata": {},
   "source": [
    "Definição do Layout do Dashboard:"
   ]
  },
  {
   "cell_type": "markdown",
   "metadata": {},
   "source": [
    "Callbacks para Interatividade dos Gráficos:"
   ]
  },
  {
   "cell_type": "code",
   "execution_count": null,
   "metadata": {},
   "outputs": [],
   "source": [
    "import dash\n",
    "from dash import dcc, html\n",
    "from dash.dependencies import Input, Output\n",
    "import plotly.express as px\n",
    "import pandas as pd\n",
    "import dash_bootstrap_components as dbc\n",
    "\n",
    "# Carregar os dados\n",
    "tabela = pd.read_csv(\"acidente-transito.csv\", sep=';', encoding='latin-1')\n",
    "\n",
    "# Preprocessamento dos dados\n",
    "tabela.columns = tabela.columns.str.strip()\n",
    "tabela = tabela.dropna()\n",
    "tabela = tabela.drop(columns=[\"Nº_boletim\", \"seq_veic\"])\n",
    "tabela['data_hora_boletim'] = pd.to_datetime(tabela['data_hora_boletim'], format='%d/%m/%Y %H:%M')\n",
    "tabela['hora'] = tabela['data_hora_boletim'].dt.hour\n",
    "tabela['mes'] = tabela['data_hora_boletim'].dt.month\n",
    "\n",
    "# Iniciar o aplicativo Dash\n",
    "app = dash.Dash(__name__, external_stylesheets=[dbc.themes.BOOTSTRAP])\n",
    "\n",
    "# Layout do aplicativo\n",
    "app.layout = dbc.Container([\n",
    "    dbc.Row([\n",
    "        dbc.Col(html.H1(\"Análise de Acidentes de Trânsito\", className=\"text-center text-primary mb-4\"), width=12)\n",
    "    ]),\n",
    "    dbc.Row([\n",
    "        dbc.Col([\n",
    "            html.Label(\"Selecione a Hora:\"),\n",
    "            dcc.Slider(\n",
    "                id='hora-slider',\n",
    "                min=0,\n",
    "                max=23,\n",
    "                step=1,\n",
    "                marks={i: f'{i}h' for i in range(24)},\n",
    "                value=12,\n",
    "                className=\"mb-4\"\n",
    "            )\n",
    "        ], width=12)\n",
    "    ]),\n",
    "    dbc.Row([\n",
    "        dbc.Col(dcc.Graph(id='grafico-tipos-socorro'), width=6),\n",
    "        dbc.Col(dcc.Graph(id='grafico-veiculos-envolvidos'), width=6)\n",
    "    ]),\n",
    "    dbc.Row([\n",
    "        dbc.Col(dcc.Graph(id='grafico-situacoes-veiculo'), width=6),\n",
    "        dbc.Col(dcc.Graph(id='grafico-distribuicao-veiculos'), width=6)\n",
    "    ])\n",
    "], fluid=True)\n",
    "\n",
    "# Callback para atualizar os gráficos com base na hora selecionada\n",
    "@app.callback(\n",
    "    [Output('grafico-tipos-socorro', 'figure'),\n",
    "     Output('grafico-veiculos-envolvidos', 'figure'),\n",
    "     Output('grafico-situacoes-veiculo', 'figure'),\n",
    "     Output('grafico-distribuicao-veiculos', 'figure')],\n",
    "    [Input('hora-slider', 'value')]\n",
    ")\n",
    "def update_graphs(hora):\n",
    "    # Filtrar os dados com base na hora selecionada\n",
    "    tabela_filtrada = tabela[tabela['hora'] == hora]\n",
    "    \n",
    "    # Gráfico de Tipos de Socorro\n",
    "    tipos_socorro = tabela_filtrada['desc_tipo_socorro'].value_counts()\n",
    "    fig_socorro = px.bar(tipos_socorro, x=tipos_socorro.index, y=tipos_socorro.values, \n",
    "                         labels={'x': 'Tipos de Socorro', 'y': 'Quantidade'}, title='Tipos de Socorro',\n",
    "                         color_discrete_sequence=['#636EFA'])\n",
    "\n",
    "    # Gráfico de Veículos Envolvidos\n",
    "    veiculos = tabela_filtrada['descricao_categoria'].value_counts()\n",
    "    fig_veiculos = px.bar(veiculos, x=veiculos.index, y=veiculos.values, \n",
    "                          labels={'x': 'Veículos Envolvidos', 'y': 'Quantidade'}, title='Veículos Envolvidos',\n",
    "                          color_discrete_sequence=['#EF553B'])\n",
    "\n",
    "    # Gráfico de Situações do Veículo\n",
    "    situacoes_veiculo = tabela_filtrada['desc_situacao'].value_counts()\n",
    "    fig_situacoes = px.bar(situacoes_veiculo, x=situacoes_veiculo.index, y=situacoes_veiculo.values, \n",
    "                           labels={'x': 'Situação do Veículo', 'y': 'Quantidade'}, title='Situação do Veículo',\n",
    "                           color_discrete_sequence=['#00CC96'])\n",
    "    \n",
    "    # Gráfico de Distribuição de Veículos (Pizza)\n",
    "    especie_count = tabela_filtrada['descricao_especie'].value_counts()\n",
    "    especie_perc = 100. * especie_count / especie_count.sum()\n",
    "    especie_filtrado = especie_perc[especie_perc >= 1.7]\n",
    "    fig_distribuicao = px.pie(values=especie_filtrado.values, names=especie_filtrado.index, \n",
    "                              title='Distribuição de Veículos (acima de 1.7%)',\n",
    "                              color_discrete_sequence=px.colors.sequential.RdBu)\n",
    "    \n",
    "    return fig_socorro, fig_veiculos, fig_situacoes, fig_distribuicao\n",
    "\n",
    "# Executar o aplicativo\n",
    "if __name__ == '__main__':\n",
    "    app.run_server(debug=True)\n"
   ]
  }
 ],
 "metadata": {
  "kernelspec": {
   "display_name": "venv",
   "language": "python",
   "name": "python3"
  },
  "language_info": {
   "codemirror_mode": {
    "name": "ipython",
    "version": 3
   },
   "file_extension": ".py",
   "mimetype": "text/x-python",
   "name": "python",
   "nbconvert_exporter": "python",
   "pygments_lexer": "ipython3",
   "version": "3.11.4"
  }
 },
 "nbformat": 4,
 "nbformat_minor": 2
}
